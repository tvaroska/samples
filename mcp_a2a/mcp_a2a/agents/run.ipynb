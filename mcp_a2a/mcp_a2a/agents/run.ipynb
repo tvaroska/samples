{
 "cells": [
  {
   "cell_type": "code",
   "execution_count": 1,
   "id": "856e6f81-6866-43e7-a50b-2059591f7e00",
   "metadata": {},
   "outputs": [],
   "source": [
    "from dotenv import load_dotenv\n",
    "\n",
    "from google.adk.sessions import InMemorySessionService\n",
    "from google.adk.runners import Runner\n",
    "\n",
    "from direct import root_agent"
   ]
  },
  {
   "cell_type": "code",
   "execution_count": 2,
   "id": "b90225a1-21fa-4615-a39b-a2fc68f4fe57",
   "metadata": {},
   "outputs": [
    {
     "data": {
      "text/plain": [
       "True"
      ]
     },
     "execution_count": 2,
     "metadata": {},
     "output_type": "execute_result"
    }
   ],
   "source": [
    "load_dotenv()"
   ]
  },
  {
   "cell_type": "code",
   "execution_count": 3,
   "id": "6bbf3940-52f7-410a-8eea-fb28a17b1748",
   "metadata": {},
   "outputs": [],
   "source": [
    "session_service = InMemorySessionService()"
   ]
  },
  {
   "cell_type": "code",
   "execution_count": 4,
   "id": "1b799507-7615-43c9-a9f8-c1836d2bf2db",
   "metadata": {},
   "outputs": [],
   "source": [
    "APP_NAME = \"currency\"\n",
    "USER_ID = \"user_1\"\n",
    "SESSION_ID = \"session_001\" # Using a fixed ID for simplicity"
   ]
  },
  {
   "cell_type": "code",
   "execution_count": 5,
   "id": "e958d48a-121c-4fce-b6ed-026e6e989880",
   "metadata": {},
   "outputs": [],
   "source": [
    "session = await session_service.create_session(\n",
    "    app_name=APP_NAME,\n",
    "    user_id=USER_ID,\n",
    "    session_id=SESSION_ID\n",
    ")"
   ]
  },
  {
   "cell_type": "code",
   "execution_count": 6,
   "id": "1d6e5174-8eb6-48fd-a029-1e57fd1d7de7",
   "metadata": {},
   "outputs": [
    {
     "name": "stdout",
     "output_type": "stream",
     "text": [
      "Session created: App='currency', User='user_1', Session='session_001'\n"
     ]
    }
   ],
   "source": [
    "print(f\"Session created: App='{APP_NAME}', User='{USER_ID}', Session='{SESSION_ID}'\")"
   ]
  },
  {
   "cell_type": "code",
   "execution_count": 7,
   "id": "bd73e626-02cf-426c-a90f-418f461340be",
   "metadata": {},
   "outputs": [],
   "source": [
    "runner = Runner(\n",
    "    agent=root_agent, # The agent we want to run\n",
    "    app_name=APP_NAME,   # Associates runs with our app\n",
    "    session_service=session_service # Uses our session manager\n",
    ")"
   ]
  },
  {
   "cell_type": "code",
   "execution_count": 8,
   "id": "3f2c0431-9315-4867-b82b-e7edcbbabba3",
   "metadata": {},
   "outputs": [],
   "source": [
    "from google.genai import types # For creating message Content/Parts\n",
    "\n",
    "async def call_agent_async(query: str, runner, user_id, session_id):\n",
    "  \"\"\"Sends a query to the agent and prints the final response.\"\"\"\n",
    "  print(f\"\\n>>> User Query: {query}\")\n",
    "\n",
    "  # Prepare the user's message in ADK format\n",
    "  content = types.Content(role='user', parts=[types.Part(text=query)])\n",
    "\n",
    "  final_response_text = \"Agent did not produce a final response.\" # Default\n",
    "\n",
    "  # Key Concept: run_async executes the agent logic and yields Events.\n",
    "  # We iterate through events to find the final answer.\n",
    "  async for event in runner.run_async(user_id=user_id, session_id=session_id, new_message=content):\n",
    "      # You can uncomment the line below to see *all* events during execution\n",
    "      print(f\"  [Event] Author: {event.author}, Type: {type(event).__name__}, Final: {event.is_final_response()}, Content: {event.content}\")\n",
    "\n",
    "      # Key Concept: is_final_response() marks the concluding message for the turn.\n",
    "      if event.is_final_response():\n",
    "          if event.content and event.content.parts:\n",
    "             # Assuming text response in the first part\n",
    "             final_response_text = event.content.parts[0].text\n",
    "          elif event.actions and event.actions.escalate: # Handle potential errors/escalations\n",
    "             final_response_text = f\"Agent escalated: {event.error_message or 'No specific message.'}\"\n",
    "          # Add more checks here if needed (e.g., specific error codes)\n",
    "          break # Stop processing events once the final response is found\n",
    "\n",
    "  print(f\"<<< Agent Response: {final_response_text}\")\n"
   ]
  },
  {
   "cell_type": "code",
   "execution_count": 9,
   "id": "cf1b6e04-bde3-4c7c-9dd3-ac57783ab5da",
   "metadata": {},
   "outputs": [
    {
     "name": "stdout",
     "output_type": "stream",
     "text": [
      "\n",
      ">>> User Query: How many euro I can get for 100?\n",
      "  [Event] Author: currency_agent, Type: Event, Final: True, Content: parts=[Part(video_metadata=None, thought=None, inline_data=None, file_data=None, thought_signature=None, code_execution_result=None, executable_code=None, function_call=None, function_response=None, text='Could you please specify the currency you want to convert from?\\n')] role='model'\n",
      "<<< Agent Response: Could you please specify the currency you want to convert from?\n",
      "\n"
     ]
    }
   ],
   "source": [
    "await call_agent_async(\n",
    "    \"How many euro I can get for 100?\",\n",
    "    runner=runner,\n",
    "    user_id=USER_ID,\n",
    "    session_id=SESSION_ID\n",
    ")"
   ]
  },
  {
   "cell_type": "code",
   "execution_count": 10,
   "id": "db4cb39e-a880-400e-88dd-0828f541e92e",
   "metadata": {},
   "outputs": [
    {
     "name": "stdout",
     "output_type": "stream",
     "text": [
      "\n",
      ">>> User Query: 100 USD\n"
     ]
    },
    {
     "name": "stderr",
     "output_type": "stream",
     "text": [
      "Warning: there are non-text parts in the response: ['function_call'], returning concatenated text result from text parts. Check the full candidates.content.parts accessor to get the full model response.\n"
     ]
    },
    {
     "name": "stdout",
     "output_type": "stream",
     "text": [
      "  [Event] Author: currency_agent, Type: Event, Final: False, Content: parts=[Part(video_metadata=None, thought=None, inline_data=None, file_data=None, thought_signature=None, code_execution_result=None, executable_code=None, function_call=FunctionCall(id='adk-b998c106-d8a5-440a-b8f8-6473f5ba1b62', args={'to_currency': 'EUR', 'from_currency': 'USD'}, name='get_conversion_rate'), function_response=None, text=None)] role='model'\n",
      "  [Event] Author: currency_agent, Type: Event, Final: False, Content: parts=[Part(video_metadata=None, thought=None, inline_data=None, file_data=None, thought_signature=None, code_execution_result=None, executable_code=None, function_call=None, function_response=FunctionResponse(will_continue=None, scheduling=None, id='adk-b998c106-d8a5-440a-b8f8-6473f5ba1b62', name='get_conversion_rate', response={'result': CallToolResult(meta=None, content=[TextContent(type='text', text='0.878272', annotations=None)], isError=False)}), text=None)] role='user'\n"
     ]
    },
    {
     "name": "stderr",
     "output_type": "stream",
     "text": [
      "Warning: there are non-text parts in the response: ['function_call'], returning concatenated text result from text parts. Check the full candidates.content.parts accessor to get the full model response.\n"
     ]
    },
    {
     "name": "stdout",
     "output_type": "stream",
     "text": [
      "  [Event] Author: currency_agent, Type: Event, Final: False, Content: parts=[Part(video_metadata=None, thought=None, inline_data=None, file_data=None, thought_signature=None, code_execution_result=None, executable_code=None, function_call=FunctionCall(id='adk-d525fdf1-1da4-4b04-af52-a0b87b9ad78e', args={'b': 0.878272, 'a': 100}, name='multiplication'), function_response=None, text=None)] role='model'\n",
      "  [Event] Author: currency_agent, Type: Event, Final: False, Content: parts=[Part(video_metadata=None, thought=None, inline_data=None, file_data=None, thought_signature=None, code_execution_result=None, executable_code=None, function_call=None, function_response=FunctionResponse(will_continue=None, scheduling=None, id='adk-d525fdf1-1da4-4b04-af52-a0b87b9ad78e', name='multiplication', response={'result': CallToolResult(meta=None, content=[TextContent(type='text', text='87.8272', annotations=None)], isError=False)}), text=None)] role='user'\n",
      "  [Event] Author: currency_agent, Type: Event, Final: True, Content: parts=[Part(video_metadata=None, thought=None, inline_data=None, file_data=None, thought_signature=None, code_execution_result=None, executable_code=None, function_call=None, function_response=None, text='You can get 87.8272 EUR for 100 USD.\\n')] role='model'\n",
      "<<< Agent Response: You can get 87.8272 EUR for 100 USD.\n",
      "\n"
     ]
    }
   ],
   "source": [
    "await call_agent_async(\n",
    "    \"100 USD\",\n",
    "    runner=runner,\n",
    "    user_id=USER_ID,\n",
    "    session_id=SESSION_ID\n",
    ")"
   ]
  },
  {
   "cell_type": "code",
   "execution_count": null,
   "id": "d75f99fa-cf37-491b-8457-e5dfacca78d8",
   "metadata": {},
   "outputs": [],
   "source": []
  }
 ],
 "metadata": {
  "kernelspec": {
   "display_name": "Python 3 (ipykernel)",
   "language": "python",
   "name": "python3"
  },
  "language_info": {
   "codemirror_mode": {
    "name": "ipython",
    "version": 3
   },
   "file_extension": ".py",
   "mimetype": "text/x-python",
   "name": "python",
   "nbconvert_exporter": "python",
   "pygments_lexer": "ipython3",
   "version": "3.12.8"
  }
 },
 "nbformat": 4,
 "nbformat_minor": 5
}
