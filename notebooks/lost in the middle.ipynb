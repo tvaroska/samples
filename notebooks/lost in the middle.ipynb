{
 "cells": [
  {
   "cell_type": "code",
   "execution_count": 1,
   "id": "5422825c-e238-4e70-9d19-b215416fae22",
   "metadata": {},
   "outputs": [],
   "source": [
    "import uuid\n",
    "import json\n",
    "\n",
    "from typing import NamedTuple\n",
    "from random import randint\n",
    "\n",
    "from tqdm.notebook import tqdm\n",
    "from dicttoxml import dicttoxml\n",
    "\n",
    "from pydantic import BaseModel\n",
    "\n",
    "from google import genai\n",
    "from google.genai.types import Part"
   ]
  },
  {
   "cell_type": "code",
   "execution_count": 2,
   "id": "caec57ea-903c-464f-b0e9-0e630d73808f",
   "metadata": {},
   "outputs": [],
   "source": [
    "class Error(NamedTuple):\n",
    "    idx: int\n",
    "    key: str\n",
    "    true: str\n",
    "    predicted: str\n",
    "\n",
    "class Errors(NamedTuple):\n",
    "    rate: float\n",
    "    errors: list[Error]"
   ]
  },
  {
   "cell_type": "code",
   "execution_count": 3,
   "id": "12ec43cd-b006-425b-9688-325426ccc755",
   "metadata": {},
   "outputs": [],
   "source": [
    "class Response(BaseModel):\n",
    "    value: int"
   ]
  },
  {
   "cell_type": "code",
   "execution_count": 4,
   "id": "60a54562-a3e4-4395-9ad0-475eeb9db95e",
   "metadata": {},
   "outputs": [],
   "source": [
    "client = genai.Client(vertexai=True, location='us-east5')"
   ]
  },
  {
   "cell_type": "code",
   "execution_count": 5,
   "id": "d1541b31-2278-41f7-91ad-fbe622fe86e0",
   "metadata": {},
   "outputs": [],
   "source": [
    "def fill_level(level: int, count: int = 10):\n",
    "    if level == 1:\n",
    "        l = {}\n",
    "        d = {}\n",
    "        for idx in range(count):\n",
    "            key = str(uuid.uuid4())\n",
    "            value = randint(0, 1000)\n",
    "            l[key] = value\n",
    "            d[key] = value\n",
    "    else:\n",
    "        l = {}\n",
    "        d = {}\n",
    "        for idx in range(count):\n",
    "            d1, l1 = fill_level(level -1, count)\n",
    "            l.update(l1)\n",
    "            d[str(uuid.uuid4())] = d1\n",
    "\n",
    "    return d, l"
   ]
  },
  {
   "cell_type": "code",
   "execution_count": 6,
   "id": "3d7c6ff4-ed0c-4ec7-8fc1-071cec6bda78",
   "metadata": {},
   "outputs": [],
   "source": [
    "def analyze(data, values, model='gemini-2.0-flash-001', mode='JSON'):\n",
    "    e_counter = 0\n",
    "    e_list = []\n",
    "\n",
    "    for idx, key in enumerate(tqdm(values)):\n",
    "\n",
    "        if mode == 'JSON':\n",
    "            part = json.dumps(data)\n",
    "        if mode == 'XML':\n",
    "            part = dicttoxml(data)\n",
    "        \n",
    "        contents = [\n",
    "            Part.from_text('<DATA>'),\n",
    "            Part.from_text(part),\n",
    "            Part.from_text('</DATA>'),\n",
    "            Part.from_text(f'Extract information from DATA. What is value for key {key}. Respond with the value only')\n",
    "        ]\n",
    "\n",
    "        response = client.models.generate_content(\n",
    "            model='gemini-2.0-flash-001',\n",
    "            contents=contents,\n",
    "            config={\n",
    "                'response_mime_type': 'application/json',\n",
    "                'response_schema': Response,\n",
    "            }\n",
    "        )\n",
    "\n",
    "        if response.parsed.value != values[key]:\n",
    "            e_counter += 1\n",
    "            e_list.append(Error(idx=idx, key=key, true=values[key], predicted=response.candidates[0].content.parts[0].text.strip()))\n",
    "\n",
    "    return Errors(\n",
    "            rate = e_counter / len(values),\n",
    "            errors = e_list)"
   ]
  },
  {
   "cell_type": "code",
   "execution_count": 7,
   "id": "c90932bb-1930-4aac-86f7-68746fc6c1fb",
   "metadata": {},
   "outputs": [],
   "source": [
    "MODEL = 'gemini-1.5-pro'"
   ]
  },
  {
   "cell_type": "code",
   "execution_count": 8,
   "id": "e5597e52-15a0-4be7-ad40-a523627db4b0",
   "metadata": {},
   "outputs": [
    {
     "data": {
      "application/vnd.jupyter.widget-view+json": {
       "model_id": "13094c6f001747c0b0121bb023254a17",
       "version_major": 2,
       "version_minor": 0
      },
      "text/plain": [
       "  0%|          | 0/1000 [00:00<?, ?it/s]"
      ]
     },
     "metadata": {},
     "output_type": "display_data"
    },
    {
     "name": "stdout",
     "output_type": "stream",
     "text": [
      "Error rate for 1 level = 2.1999999999999997%\n"
     ]
    }
   ],
   "source": [
    "data, values = fill_level(1, 1000)\n",
    "errs = analyze(data, values, model=MODEL, mode='XML')\n",
    "print(f'Error rate for 1 level = {errs.rate*100}%')"
   ]
  },
  {
   "cell_type": "code",
   "execution_count": 9,
   "id": "7deb2dba-a679-4790-a622-b4f6e40b0091",
   "metadata": {},
   "outputs": [
    {
     "data": {
      "application/vnd.jupyter.widget-view+json": {
       "model_id": "8be269477d0d4293bf79a8807e344d85",
       "version_major": 2,
       "version_minor": 0
      },
      "text/plain": [
       "  0%|          | 0/1024 [00:00<?, ?it/s]"
      ]
     },
     "metadata": {},
     "output_type": "display_data"
    },
    {
     "name": "stdout",
     "output_type": "stream",
     "text": [
      "Error rate for 2 level = 3.125%\n"
     ]
    }
   ],
   "source": [
    "data, values = fill_level(2, 32)\n",
    "errs = analyze(data, values, model=MODEL, mode='XML')\n",
    "print(f'Error rate for 2 level = {errs.rate*100}%')"
   ]
  },
  {
   "cell_type": "code",
   "execution_count": 10,
   "id": "85933b98-b692-496e-8373-7518a4cfa289",
   "metadata": {},
   "outputs": [
    {
     "data": {
      "application/vnd.jupyter.widget-view+json": {
       "model_id": "1dcfb174c71847bebbccd459ddfa507f",
       "version_major": 2,
       "version_minor": 0
      },
      "text/plain": [
       "  0%|          | 0/1000 [00:00<?, ?it/s]"
      ]
     },
     "metadata": {},
     "output_type": "display_data"
    },
    {
     "name": "stdout",
     "output_type": "stream",
     "text": [
      "Error rate for 3 level = 4.1000000000000005%\n"
     ]
    }
   ],
   "source": [
    "data, values = fill_level(3, 10)\n",
    "errs = analyze(data, values, model=MODEL, mode='XML')\n",
    "print(f'Error rate for 3 level = {errs.rate*100}%')"
   ]
  },
  {
   "cell_type": "code",
   "execution_count": 11,
   "id": "f2e48e46-ae1d-4364-be74-ba8ba44e725f",
   "metadata": {},
   "outputs": [],
   "source": [
    "response = client.models.generate_content(\n",
    "    model='gemini-1.5-pro',\n",
    "    contents='what is 1+1?',\n",
    ")"
   ]
  },
  {
   "cell_type": "code",
   "execution_count": null,
   "id": "715ec854-ebf7-4218-a6ae-c861079ee356",
   "metadata": {},
   "outputs": [],
   "source": []
  }
 ],
 "metadata": {
  "kernelspec": {
   "display_name": "Python 3 (ipykernel)",
   "language": "python",
   "name": "python3"
  },
  "language_info": {
   "codemirror_mode": {
    "name": "ipython",
    "version": 3
   },
   "file_extension": ".py",
   "mimetype": "text/x-python",
   "name": "python",
   "nbconvert_exporter": "python",
   "pygments_lexer": "ipython3",
   "version": "3.10.12"
  }
 },
 "nbformat": 4,
 "nbformat_minor": 5
}
