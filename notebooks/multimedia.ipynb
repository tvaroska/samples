{
 "cells": [
  {
   "cell_type": "code",
   "execution_count": 1,
   "id": "925d81cf-7a7c-4f98-b981-6fd58d521f48",
   "metadata": {},
   "outputs": [],
   "source": [
    "import requests\n",
    "import base64\n",
    "\n",
    "import litellm\n",
    "\n",
    "from google import auth\n",
    "\n",
    "from langchain_core.messages import HumanMessage\n",
    "from langchain_google_vertexai import ChatVertexAI"
   ]
  },
  {
   "cell_type": "markdown",
   "id": "49d33d26-2d20-4b96-bb86-ac8f3a735d5c",
   "metadata": {},
   "source": [
    "### Setting for examples"
   ]
  },
  {
   "cell_type": "code",
   "execution_count": 2,
   "id": "e492188f-4b01-4b63-87d5-a85af4277527",
   "metadata": {},
   "outputs": [],
   "source": [
    "PDF = 'https://arxiv.org/pdf/1706.03762'\n",
    "GS_PDF = f'gs://{auth.default()[1]}/1706.03762.pdf'\n",
    "\n",
    "YT_VIDEO = 'https://www.youtube.com/watch?v=iDulhoQ2pro'\n",
    "\n",
    "MODEL = 'gemini-1.5-flash-002'"
   ]
  },
  {
   "cell_type": "code",
   "execution_count": 3,
   "id": "2083083f-21f1-41f6-9e98-0687617f919e",
   "metadata": {},
   "outputs": [],
   "source": [
    "lang_llm = ChatVertexAI(model=MODEL)"
   ]
  },
  {
   "cell_type": "markdown",
   "id": "2a3ac128-a05d-4bf8-af53-3e20a678830c",
   "metadata": {},
   "source": [
    "## PDF file - in prompt"
   ]
  },
  {
   "cell_type": "code",
   "execution_count": 4,
   "id": "789d5744-83d4-4edc-b600-180e292ba2ab",
   "metadata": {},
   "outputs": [],
   "source": [
    "pdf_content = base64.b64encode(requests.get(PDF).content).decode(\"utf-8\")"
   ]
  },
  {
   "cell_type": "code",
   "execution_count": 5,
   "id": "3efdfc23-6d8a-47ee-a589-7b6cdf1eda15",
   "metadata": {},
   "outputs": [
    {
     "data": {
      "text/plain": [
       "AIMessage(content='The title of the paper is \"Attention is All You Need\".  The authors are Ashish Vaswani, Noam Shazeer, Niki Parmar, Jakob Uszkoreit, Llion Jones, Aidan N. Gomez, Łukasz Kaiser, and Illia Polosukhin.', additional_kwargs={}, response_metadata={'is_blocked': False, 'safety_ratings': [], 'citation_metadata': {'citations': [{'start_index': 68, 'end_index': 195, 'uri': 'https://debuggercafe.com/transformer-neural-network/', 'title': '', 'license_': ''}]}, 'usage_metadata': {'prompt_token_count': 3881, 'candidates_token_count': 58, 'total_token_count': 3939, 'cached_content_token_count': 0}, 'finish_reason': 'STOP', 'avg_logprobs': -0.03335425977049203}, id='run-1d4ef3e2-4bb7-42c6-a28b-0488a09d4475-0', usage_metadata={'input_tokens': 3881, 'output_tokens': 58, 'total_tokens': 3939})"
      ]
     },
     "execution_count": 5,
     "metadata": {},
     "output_type": "execute_result"
    }
   ],
   "source": [
    "# Langchain model - each message is tuple of role, content\n",
    "\n",
    "lang_llm.invoke([\n",
    "    (\"user\", [{\"type\": \"text\", \"text\": \"What is title and who is author of the paper?\"}, \n",
    "              {\"type\": \"image_url\", \"image_url\": {\"url\": f\"data:application/pdf;base64,{pdf_content}\"}}])\n",
    "])"
   ]
  },
  {
   "cell_type": "code",
   "execution_count": 6,
   "id": "65f3c7b9-763f-4597-81d6-374c893cff71",
   "metadata": {},
   "outputs": [
    {
     "data": {
      "text/plain": [
       "AIMessage(content='The title of the paper is **Attention is All You Need**.\\n\\nThe authors are Ashish Vaswani, Noam Shazeer, Niki Parmar, Jakob Uszkoreit, Llion Jones, Aidan N. Gomez, Łukasz Kaiser, and Illia Polosukhin.', additional_kwargs={}, response_metadata={'is_blocked': False, 'safety_ratings': [], 'citation_metadata': {'citations': [{'start_index': 70, 'end_index': 197, 'uri': 'https://debuggercafe.com/transformer-neural-network/', 'title': '', 'license_': ''}]}, 'usage_metadata': {'prompt_token_count': 3881, 'candidates_token_count': 58, 'total_token_count': 3939, 'cached_content_token_count': 0}, 'finish_reason': 'STOP', 'avg_logprobs': -0.03665543013605578}, id='run-364d4ba3-fb77-4343-bfb7-c70ca16700e9-0', usage_metadata={'input_tokens': 3881, 'output_tokens': 58, 'total_tokens': 3939})"
      ]
     },
     "execution_count": 6,
     "metadata": {},
     "output_type": "execute_result"
    }
   ],
   "source": [
    "# Langchain model - each message is subclass of BaseMassage (HumanMessage in this case)\n",
    "\n",
    "lang_llm.invoke([\n",
    "    HumanMessage(\n",
    "        content = [\n",
    "            {\"type\": \"text\", \"text\": \"What is title and who is author of the paper?\"}, \n",
    "            {\"type\": \"image_url\", \"image_url\": {\"url\": f\"data:application/pdf;base64,{pdf_content}\"}}\n",
    "        ]\n",
    "    )\n",
    "])"
   ]
  },
  {
   "cell_type": "code",
   "execution_count": 7,
   "id": "75069b48-9621-4ecb-91a8-238fbc5dd1b8",
   "metadata": {},
   "outputs": [
    {
     "data": {
      "text/plain": [
       "ModelResponse(id='chatcmpl-4b120dec-3a48-46df-a8d0-d45c955ef037', created=1734647317, model='gemini-1.5-flash-002', object='chat.completion', system_fingerprint=None, choices=[Choices(finish_reason='stop', index=0, message=Message(content='The title of the paper is \"Attention is All You Need\".  The authors are Ashish Vaswani, Noam Shazeer, Niki Parmar, Jakob Uszkoreit, Llion Jones, Aidan N. Gomez, Łukasz Kaiser, and Illia Polosukhin.', role='assistant', tool_calls=None, function_call=None))], usage=Usage(completion_tokens=58, prompt_tokens=3881, total_tokens=3939, completion_tokens_details=None, prompt_tokens_details=None), vertex_ai_grounding_metadata=[], vertex_ai_safety_results=[], vertex_ai_citation_metadata=[{'citations': [{'startIndex': 68, 'endIndex': 195, 'uri': 'https://debuggercafe.com/transformer-neural-network/'}]}])"
      ]
     },
     "execution_count": 7,
     "metadata": {},
     "output_type": "execute_result"
    }
   ],
   "source": [
    "# Litellm - list of dictionaries\n",
    "litellm.completion(\n",
    "    model=MODEL,\n",
    "    messages = [\n",
    "        { \"content\": [\n",
    "            {\"type\": \"text\", \"text\": \"What is title and who is author of the paper?\"}, \n",
    "            {\"type\": \"image_url\", \"image_url\": {\"url\": f\"data:application/pdf;base64,{pdf_content}\"}}\n",
    "        ],\n",
    "         \"role\": \"user\"}\n",
    "    ]\n",
    ")"
   ]
  },
  {
   "cell_type": "markdown",
   "id": "35742fb4-7325-4005-a314-1404e5c5cff3",
   "metadata": {},
   "source": [
    "## PDF - stored in Google Storage Bucket"
   ]
  },
  {
   "cell_type": "code",
   "execution_count": 8,
   "id": "95164d69-304c-4e9f-8b1c-b3bd9164748d",
   "metadata": {},
   "outputs": [
    {
     "data": {
      "text/plain": [
       "AIMessage(content='The title of the paper is **Attention Is All You Need**.\\n\\nThe authors are Ashish Vaswani, Noam Shazeer, Niki Parmar, Jakob Uszkoreit, Llion Jones, Aidan N. Gomez, Łukasz Kaiser, and Illia Polosukhin.', additional_kwargs={}, response_metadata={'is_blocked': False, 'safety_ratings': [], 'citation_metadata': {'citations': [{'start_index': 70, 'end_index': 197, 'uri': 'https://debuggercafe.com/transformer-neural-network/', 'title': '', 'license_': ''}]}, 'usage_metadata': {'prompt_token_count': 3881, 'candidates_token_count': 58, 'total_token_count': 3939, 'cached_content_token_count': 0}, 'finish_reason': 'STOP', 'avg_logprobs': -0.03426221937968813}, id='run-6fe63c5c-9456-45f4-9e91-69915f32085d-0', usage_metadata={'input_tokens': 3881, 'output_tokens': 58, 'total_tokens': 3939})"
      ]
     },
     "execution_count": 8,
     "metadata": {},
     "output_type": "execute_result"
    }
   ],
   "source": [
    "# Langchain model - each message is tuple of role, content\n",
    "\n",
    "lang_llm.invoke([\n",
    "    (\"user\", [{\"type\": \"text\", \"text\": \"What is title and who is author of the paper?\"}, \n",
    "              {\"type\": \"media\", \"mime_type\": \"application/pdf\", \"file_uri\": GS_PDF}])\n",
    "])"
   ]
  },
  {
   "cell_type": "code",
   "execution_count": 9,
   "id": "3f51ed02-d08d-49af-8dcf-6259c06a251f",
   "metadata": {},
   "outputs": [
    {
     "data": {
      "text/plain": [
       "AIMessage(content='The title of the paper is \"Attention Is All You Need\".  The authors are Ashish Vaswani, Noam Shazeer, Niki Parmar, Jakob Uszkoreit, Llion Jones, Aidan N. Gomez, Łukasz Kaiser, and Illia Polosukhin.', additional_kwargs={}, response_metadata={'is_blocked': False, 'safety_ratings': [], 'citation_metadata': {'citations': [{'start_index': 68, 'end_index': 195, 'uri': 'https://debuggercafe.com/transformer-neural-network/', 'title': '', 'license_': ''}]}, 'usage_metadata': {'prompt_token_count': 3881, 'candidates_token_count': 58, 'total_token_count': 3939, 'cached_content_token_count': 0}, 'finish_reason': 'STOP', 'avg_logprobs': -0.01916517471445018}, id='run-d0f0041c-d348-4553-a9fa-d07b2cfe89e8-0', usage_metadata={'input_tokens': 3881, 'output_tokens': 58, 'total_tokens': 3939})"
      ]
     },
     "execution_count": 9,
     "metadata": {},
     "output_type": "execute_result"
    }
   ],
   "source": [
    "# Langchain model - each message is subclass of BaseMassage (HumanMessage in this case)\n",
    "\n",
    "lang_llm.invoke([\n",
    "    HumanMessage(\n",
    "        content = [\n",
    "            {\"type\": \"text\", \"text\": \"What is title and who is author of the paper?\"}, \n",
    "            {\"type\": \"media\", \"mime_type\": \"application/pdf\", \"file_uri\": GS_PDF}\n",
    "        ]\n",
    "    )\n",
    "])"
   ]
  },
  {
   "cell_type": "code",
   "execution_count": 10,
   "id": "319bd0d3-5169-46cd-8dd4-deb422b5517d",
   "metadata": {},
   "outputs": [
    {
     "data": {
      "text/plain": [
       "ModelResponse(id='chatcmpl-67e7795c-4131-4225-ba8f-bb641f07f493', created=1734647327, model='gemini-1.5-flash-002', object='chat.completion', system_fingerprint=None, choices=[Choices(finish_reason='stop', index=0, message=Message(content='Here is the title and author information from the provided text:\\n\\n**Title:** Attention Is All You Need\\n\\n**Authors:** Ashish Vaswani*, Noam Shazeer*, Niki Parmar*, Jakob Uszkoreit*, Llion Jones*, Aidan N. Gomez*, Łukasz Kaiser*, and Illia Polosukhin*\\n\\n\\n* indicates equal contribution.', role='assistant', tool_calls=None, function_call=None))], usage=Usage(completion_tokens=72, prompt_tokens=3881, total_tokens=3953, completion_tokens_details=None, prompt_tokens_details=None), vertex_ai_grounding_metadata=[], vertex_ai_safety_results=[], vertex_ai_citation_metadata=[{'citations': [{'startIndex': 77, 'endIndex': 225, 'uri': 'https://clarifai.com/clarifai/main/models/moderation-multilingual-text-classification'}, {'startIndex': 117, 'endIndex': 256, 'uri': 'https://www.deepeshdivakaran.com/post/the-evolution-of-language-processing-understanding-chatgpt-3'}]}])"
      ]
     },
     "execution_count": 10,
     "metadata": {},
     "output_type": "execute_result"
    }
   ],
   "source": [
    "# Litellm - list of dictionaries\n",
    "# Litellm use file extenstion to guess media_type\n",
    "\n",
    "litellm.completion(\n",
    "    model=MODEL,\n",
    "    messages = [\n",
    "        { \"content\": [\n",
    "            {\"type\": \"text\", \"text\": \"What is title and who is author of the paper?\"}, \n",
    "            {\"type\": \"image_url\", \"image_url\":{\"url\": GS_PDF}}\n",
    "        ],\n",
    "         \"role\": \"user\"}\n",
    "    ]\n",
    ")"
   ]
  },
  {
   "cell_type": "markdown",
   "id": "d71c9819-e394-432e-8168-2601fe452461",
   "metadata": {},
   "source": [
    "## Video from Youtube"
   ]
  },
  {
   "cell_type": "code",
   "execution_count": 11,
   "id": "ffe59dd0-febb-46ce-a33c-07355061ea43",
   "metadata": {},
   "outputs": [
    {
     "data": {
      "text/plain": [
       "AIMessage(content='The title of the paper is “Attention is All You Need,” and the authors are Ashish Vaswani, Noam Shazeer, Niki Parmar, Jakob Uszkoreit, Llion Jones, Aidan N. Gomez, Łukasz Kaiser, and Illia Polosukhin.', additional_kwargs={}, response_metadata={'is_blocked': False, 'safety_ratings': [], 'citation_metadata': {'citations': [{'start_index': 71, 'end_index': 198, 'uri': 'https://debuggercafe.com/transformer-neural-network/', 'title': '', 'license_': ''}]}, 'usage_metadata': {'prompt_token_count': 479681, 'candidates_token_count': 58, 'total_token_count': 479739, 'cached_content_token_count': 0}, 'finish_reason': 'STOP', 'avg_logprobs': -0.03462911885360192}, id='run-f61d0250-8946-45d8-b65b-65a3d14c3afc-0', usage_metadata={'input_tokens': 479681, 'output_tokens': 58, 'total_tokens': 479739})"
      ]
     },
     "execution_count": 11,
     "metadata": {},
     "output_type": "execute_result"
    }
   ],
   "source": [
    "# Langchain model - each message is tuple of role, content\n",
    "\n",
    "lang_llm.invoke([\n",
    "    (\"user\", [{\"type\": \"text\", \"text\": \"What is title and who is author of the paper?\"}, \n",
    "              {\"type\": \"media\", \"mime_type\": \"video/vnd.youtube.yt\", \"file_uri\": YT_VIDEO}])\n",
    "])"
   ]
  },
  {
   "cell_type": "code",
   "execution_count": 12,
   "id": "3fbffb28-2b91-461d-9878-6e6ceed4cc01",
   "metadata": {},
   "outputs": [
    {
     "data": {
      "text/plain": [
       "AIMessage(content='The title of the paper is “Attention is All You Need.”  The authors are Ashish Vaswani, Noam Shazeer, Niki Parmar, Jakob Uszkoreit, Llion Jones, Aidan N. Gomez, Łukasz Kaiser, and Illia Polosukhin.', additional_kwargs={}, response_metadata={'is_blocked': False, 'safety_ratings': [], 'citation_metadata': {'citations': [{'start_index': 68, 'end_index': 195, 'uri': 'https://debuggercafe.com/transformer-neural-network/', 'title': '', 'license_': ''}]}, 'usage_metadata': {'prompt_token_count': 479681, 'candidates_token_count': 58, 'total_token_count': 479739, 'cached_content_token_count': 0}, 'finish_reason': 'STOP', 'avg_logprobs': -0.03850662297215955}, id='run-74fa9654-20ac-443a-8bac-d822cd469211-0', usage_metadata={'input_tokens': 479681, 'output_tokens': 58, 'total_tokens': 479739})"
      ]
     },
     "execution_count": 12,
     "metadata": {},
     "output_type": "execute_result"
    }
   ],
   "source": [
    "# Langchain model - each message is subclass of BaseMassage (HumanMessage in this case)\n",
    "\n",
    "lang_llm.invoke([\n",
    "    HumanMessage(\n",
    "        content = [\n",
    "            {\"type\": \"text\", \"text\": \"What is title and who is author of the paper?\"}, \n",
    "            {\"type\": \"media\", \"mime_type\": \"video/vnd.youtube.yt\", \"file_uri\": YT_VIDEO}\n",
    "        ]\n",
    "    )\n",
    "])"
   ]
  },
  {
   "cell_type": "code",
   "execution_count": 13,
   "id": "c76ea73e-8ec2-496b-b4a0-adc642dbb5d3",
   "metadata": {},
   "outputs": [
    {
     "data": {
      "text/plain": [
       "ModelResponse(id='chatcmpl-040113bf-eee4-43fe-abed-0f791abadfa2', created=1734647401, model='gemini-1.5-flash-002', object='chat.completion', system_fingerprint=None, choices=[Choices(finish_reason='stop', index=0, message=Message(content=\"The title of the YouTube video is **Attention Is All You Need**.  The author is **Yannic Kilcher**.  Note that this information is extracted from the metadata within the HTML provided; it's not a research paper in the traditional sense, but rather a video about a research paper.\\n\", role='assistant', tool_calls=None, function_call=None))], usage=Usage(completion_tokens=61, prompt_tokens=11, total_tokens=72, completion_tokens_details=None, prompt_tokens_details=None), vertex_ai_grounding_metadata=[], vertex_ai_safety_results=[], vertex_ai_citation_metadata=[])"
      ]
     },
     "execution_count": 13,
     "metadata": {},
     "output_type": "execute_result"
    }
   ],
   "source": [
    "# Litellm - list of dictionaries\n",
    "\n",
    "litellm.completion(\n",
    "    model=MODEL,\n",
    "    messages = [\n",
    "        { \"content\": [\n",
    "            {\"type\": \"text\", \"text\": \"What is title and who is author of the paper?\"}, \n",
    "            {\"type\": \"image_url\", \"image_url\":{\"url\": YT_VIDEO}}\n",
    "        ],\n",
    "         \"role\": \"user\"}\n",
    "    ]\n",
    ")"
   ]
  },
  {
   "cell_type": "code",
   "execution_count": null,
   "id": "6429b2b8-2a6e-49ca-88ad-f73c1a66ac61",
   "metadata": {},
   "outputs": [],
   "source": []
  }
 ],
 "metadata": {
  "kernelspec": {
   "display_name": "Python 3 (ipykernel)",
   "language": "python",
   "name": "python3"
  },
  "language_info": {
   "codemirror_mode": {
    "name": "ipython",
    "version": 3
   },
   "file_extension": ".py",
   "mimetype": "text/x-python",
   "name": "python",
   "nbconvert_exporter": "python",
   "pygments_lexer": "ipython3",
   "version": "3.10.12"
  }
 },
 "nbformat": 4,
 "nbformat_minor": 5
}
