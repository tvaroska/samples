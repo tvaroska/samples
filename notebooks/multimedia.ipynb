{
 "cells": [
  {
   "cell_type": "code",
   "execution_count": 1,
   "id": "925d81cf-7a7c-4f98-b981-6fd58d521f48",
   "metadata": {},
   "outputs": [],
   "source": [
    "import requests\n",
    "import base64\n",
    "\n",
    "import litellm\n",
    "\n",
    "from google import auth\n",
    "\n",
    "from langchain_core.messages import HumanMessage\n",
    "from langchain_google_vertexai import ChatVertexAI"
   ]
  },
  {
   "cell_type": "markdown",
   "id": "49d33d26-2d20-4b96-bb86-ac8f3a735d5c",
   "metadata": {},
   "source": [
    "### Setting for examples"
   ]
  },
  {
   "cell_type": "code",
   "execution_count": 2,
   "id": "e492188f-4b01-4b63-87d5-a85af4277527",
   "metadata": {},
   "outputs": [],
   "source": [
    "PDF = 'https://arxiv.org/pdf/1706.03762'\n",
    "HTML = 'https://arxiv.org/html/1706.03762'\n",
    "GS_PDF = f'gs://{auth.default()[1]}/1706.03762.pdf'\n",
    "\n",
    "YT_VIDEO = 'https://www.youtube.com/watch?v=iDulhoQ2pro'\n",
    "\n",
    "MODEL = 'gemini-1.5-flash-002'"
   ]
  },
  {
   "cell_type": "code",
   "execution_count": 3,
   "id": "2083083f-21f1-41f6-9e98-0687617f919e",
   "metadata": {},
   "outputs": [],
   "source": [
    "lang_llm = ChatVertexAI(model=MODEL)"
   ]
  },
  {
   "cell_type": "markdown",
   "id": "2a3ac128-a05d-4bf8-af53-3e20a678830c",
   "metadata": {},
   "source": [
    "## PDF file - in prompt"
   ]
  },
  {
   "cell_type": "code",
   "execution_count": 4,
   "id": "789d5744-83d4-4edc-b600-180e292ba2ab",
   "metadata": {},
   "outputs": [],
   "source": [
    "pdf_content = base64.b64encode(requests.get(PDF).content).decode(\"utf-8\")"
   ]
  },
  {
   "cell_type": "code",
   "execution_count": 5,
   "id": "3efdfc23-6d8a-47ee-a589-7b6cdf1eda15",
   "metadata": {},
   "outputs": [
    {
     "data": {
      "text/plain": [
       "AIMessage(content=\"Here's the answer to your question:\\n\\n**Title:** Attention Is All You Need\\n\\n**Authors:** Ashish Vaswani, Noam Shazeer, Niki Parmar, Jakob Uszkoreit, Llion Jones, Aidan N. Gomez, Łukasz Kaiser, and Illia Polosukhin\", additional_kwargs={}, response_metadata={'is_blocked': False, 'safety_ratings': [], 'citation_metadata': {'citations': [{'start_index': 48, 'end_index': 190, 'uri': 'https://clarifai.com/clarifai/main/models/moderation-multilingual-text-classification', 'title': '', 'license_': ''}]}, 'usage_metadata': {'prompt_token_count': 3881, 'candidates_token_count': 62, 'total_token_count': 3943, 'cached_content_token_count': 0}, 'finish_reason': 'STOP', 'avg_logprobs': -0.06951698949260096}, id='run-66fdbf2c-0f9b-44b6-a62e-0bbdfa1e444d-0', usage_metadata={'input_tokens': 3881, 'output_tokens': 62, 'total_tokens': 3943})"
      ]
     },
     "execution_count": 5,
     "metadata": {},
     "output_type": "execute_result"
    }
   ],
   "source": [
    "# Langchain model - each message is tuple of role, content\n",
    "\n",
    "lang_llm.invoke([\n",
    "    (\"user\", [{\"type\": \"text\", \"text\": \"What is title and who is author of the paper?\"}, \n",
    "              {\"type\": \"image_url\", \"image_url\": {\"url\": f\"data:application/pdf;base64,{pdf_content}\"}}])\n",
    "])"
   ]
  },
  {
   "cell_type": "code",
   "execution_count": 6,
   "id": "65f3c7b9-763f-4597-81d6-374c893cff71",
   "metadata": {},
   "outputs": [
    {
     "data": {
      "text/plain": [
       "AIMessage(content='The title of the paper is **Attention Is All You Need**.\\n\\nThe authors are Ashish Vaswani, Noam Shazeer, Niki Parmar, Jakob Uszkoreit, Llion Jones, Aidan N. Gomez, Łukasz Kaiser, and Illia Polosukhin.', additional_kwargs={}, response_metadata={'is_blocked': False, 'safety_ratings': [], 'citation_metadata': {'citations': [{'start_index': 70, 'end_index': 197, 'uri': 'https://debuggercafe.com/transformer-neural-network/', 'title': '', 'license_': ''}]}, 'usage_metadata': {'prompt_token_count': 3881, 'candidates_token_count': 58, 'total_token_count': 3939, 'cached_content_token_count': 0}, 'finish_reason': 'STOP', 'avg_logprobs': -0.029677619194162303}, id='run-e5d7eb49-8f4f-4a9d-901e-3e036b87254c-0', usage_metadata={'input_tokens': 3881, 'output_tokens': 58, 'total_tokens': 3939})"
      ]
     },
     "execution_count": 6,
     "metadata": {},
     "output_type": "execute_result"
    }
   ],
   "source": [
    "# Langchain model - each message is subclass of BaseMassage (HumanMessage in this case)\n",
    "\n",
    "lang_llm.invoke([\n",
    "    HumanMessage(\n",
    "        content = [\n",
    "            {\"type\": \"text\", \"text\": \"What is title and who is author of the paper?\"}, \n",
    "            {\"type\": \"image_url\", \"image_url\": {\"url\": f\"data:application/pdf;base64,{pdf_content}\"}}\n",
    "        ]\n",
    "    )\n",
    "])"
   ]
  },
  {
   "cell_type": "code",
   "execution_count": 7,
   "id": "75069b48-9621-4ecb-91a8-238fbc5dd1b8",
   "metadata": {},
   "outputs": [
    {
     "data": {
      "text/plain": [
       "ModelResponse(id='chatcmpl-5d484a84-c788-4afc-8468-190e0b91c718', created=1735350009, model='gemini-1.5-flash-002', object='chat.completion', system_fingerprint=None, choices=[Choices(finish_reason='stop', index=0, message=Message(content='The title of the paper is **Attention is All You Need**.\\n\\nThe authors are Ashish Vaswani, Noam Shazeer, Niki Parmar, Jakob Uszkoreit, Llion Jones, Aidan N. Gomez, Łukasz Kaiser, and Illia Polosukhin.', role='assistant', tool_calls=None, function_call=None))], usage=Usage(completion_tokens=58, prompt_tokens=3881, total_tokens=3939, completion_tokens_details=None, prompt_tokens_details=None), vertex_ai_grounding_metadata=[], vertex_ai_safety_results=[], vertex_ai_citation_metadata=[{'citations': [{'startIndex': 70, 'endIndex': 197, 'uri': 'https://debuggercafe.com/transformer-neural-network/'}]}])"
      ]
     },
     "execution_count": 7,
     "metadata": {},
     "output_type": "execute_result"
    }
   ],
   "source": [
    "# Litellm - list of dictionaries\n",
    "litellm.completion(\n",
    "    model=MODEL,\n",
    "    messages = [\n",
    "        { \"content\": [\n",
    "            {\"type\": \"text\", \"text\": \"What is title and who is author of the paper?\"}, \n",
    "            {\"type\": \"image_url\", \"image_url\": {\"url\": f\"data:application/pdf;base64,{pdf_content}\"}}\n",
    "        ],\n",
    "         \"role\": \"user\"}\n",
    "    ]\n",
    ")"
   ]
  },
  {
   "cell_type": "markdown",
   "id": "35742fb4-7325-4005-a314-1404e5c5cff3",
   "metadata": {},
   "source": [
    "## PDF - stored in Google Storage Bucket"
   ]
  },
  {
   "cell_type": "code",
   "execution_count": 8,
   "id": "95164d69-304c-4e9f-8b1c-b3bd9164748d",
   "metadata": {},
   "outputs": [
    {
     "data": {
      "text/plain": [
       "AIMessage(content='The title of the paper is \"Attention is All You Need\".  The authors are Ashish Vaswani, Noam Shazeer, Niki Parmar, Jakob Uszkoreit, Llion Jones, Aidan N. Gomez, Łukasz Kaiser, and Illia Polosukhin.', additional_kwargs={}, response_metadata={'is_blocked': False, 'safety_ratings': [], 'citation_metadata': {'citations': [{'start_index': 68, 'end_index': 195, 'uri': 'https://debuggercafe.com/transformer-neural-network/', 'title': '', 'license_': ''}]}, 'usage_metadata': {'prompt_token_count': 3881, 'candidates_token_count': 58, 'total_token_count': 3939, 'cached_content_token_count': 0}, 'finish_reason': 'STOP', 'avg_logprobs': -0.036004362435176455}, id='run-f73446e0-006e-47b1-8623-e9928acffeee-0', usage_metadata={'input_tokens': 3881, 'output_tokens': 58, 'total_tokens': 3939})"
      ]
     },
     "execution_count": 8,
     "metadata": {},
     "output_type": "execute_result"
    }
   ],
   "source": [
    "# Langchain model - each message is tuple of role, content\n",
    "\n",
    "lang_llm.invoke([\n",
    "    (\"user\", [{\"type\": \"text\", \"text\": \"What is title and who is author of the paper?\"}, \n",
    "              {\"type\": \"media\", \"mime_type\": \"application/pdf\", \"file_uri\": GS_PDF}])\n",
    "])"
   ]
  },
  {
   "cell_type": "code",
   "execution_count": 9,
   "id": "3f51ed02-d08d-49af-8dcf-6259c06a251f",
   "metadata": {},
   "outputs": [
    {
     "data": {
      "text/plain": [
       "AIMessage(content=\"Here's the answer to your question:\\n\\n**Title:** Attention Is All You Need\\n\\n**Authors:** Ashish Vaswani, Noam Shazeer, Niki Parmar, Jakob Uszkoreit, Llion Jones, Aidan N. Gomez, Łukasz Kaiser, and Illia Polosukhin\", additional_kwargs={}, response_metadata={'is_blocked': False, 'safety_ratings': [], 'citation_metadata': {'citations': [{'start_index': 48, 'end_index': 190, 'uri': 'https://clarifai.com/clarifai/main/models/moderation-multilingual-text-classification', 'title': '', 'license_': ''}]}, 'usage_metadata': {'prompt_token_count': 3881, 'candidates_token_count': 62, 'total_token_count': 3943, 'cached_content_token_count': 0}, 'finish_reason': 'STOP', 'avg_logprobs': -0.07204825647415654}, id='run-aea4ee2c-920f-4d55-8b73-807c7893c164-0', usage_metadata={'input_tokens': 3881, 'output_tokens': 62, 'total_tokens': 3943})"
      ]
     },
     "execution_count": 9,
     "metadata": {},
     "output_type": "execute_result"
    }
   ],
   "source": [
    "# Langchain model - each message is subclass of BaseMassage (HumanMessage in this case)\n",
    "\n",
    "lang_llm.invoke([\n",
    "    HumanMessage(\n",
    "        content = [\n",
    "            {\"type\": \"text\", \"text\": \"What is title and who is author of the paper?\"}, \n",
    "            {\"type\": \"media\", \"mime_type\": \"application/pdf\", \"file_uri\": GS_PDF}\n",
    "        ]\n",
    "    )\n",
    "])"
   ]
  },
  {
   "cell_type": "code",
   "execution_count": 10,
   "id": "319bd0d3-5169-46cd-8dd4-deb422b5517d",
   "metadata": {},
   "outputs": [
    {
     "data": {
      "text/plain": [
       "ModelResponse(id='chatcmpl-40f62a45-3d44-4b5c-aca7-446ede529b47', created=1735350019, model='gemini-1.5-flash-002', object='chat.completion', system_fingerprint=None, choices=[Choices(finish_reason='stop', index=0, message=Message(content='The title of the paper is \"Attention is All You Need\".  The authors are Ashish Vaswani, Noam Shazeer, Niki Parmar, Jakob Uszkoreit, Llion Jones, Aidan N. Gomez, Łukasz Kaiser, and Illia Polosukhin.', role='assistant', tool_calls=None, function_call=None))], usage=Usage(completion_tokens=58, prompt_tokens=3881, total_tokens=3939, completion_tokens_details=None, prompt_tokens_details=None), vertex_ai_grounding_metadata=[], vertex_ai_safety_results=[], vertex_ai_citation_metadata=[{'citations': [{'startIndex': 68, 'endIndex': 195, 'uri': 'https://debuggercafe.com/transformer-neural-network/'}]}])"
      ]
     },
     "execution_count": 10,
     "metadata": {},
     "output_type": "execute_result"
    }
   ],
   "source": [
    "# Litellm - list of dictionaries\n",
    "# Litellm use file extenstion to guess media_type\n",
    "\n",
    "litellm.completion(\n",
    "    model=MODEL,\n",
    "    messages = [\n",
    "        { \"content\": [\n",
    "            {\"type\": \"text\", \"text\": \"What is title and who is author of the paper?\"}, \n",
    "            {\"type\": \"image_url\", \"image_url\":{\"url\": GS_PDF}}\n",
    "        ],\n",
    "         \"role\": \"user\"}\n",
    "    ]\n",
    ")"
   ]
  },
  {
   "cell_type": "markdown",
   "id": "7478df41-dfe4-4ea4-ba85-eff891ff6a76",
   "metadata": {},
   "source": [
    "## PDF directly from website\n",
    "\n",
    "Vertex AI can access data from publicly avialable sites (it does follow robots.txt limitations)"
   ]
  },
  {
   "cell_type": "code",
   "execution_count": 11,
   "id": "28689c4a-486b-4fb6-9224-6c899f9ea167",
   "metadata": {},
   "outputs": [
    {
     "data": {
      "text/plain": [
       "AIMessage(content=\"Here's the information you requested from the provided text:\\n\\n**Title:** Attention Is All You Need\\n\\n**Authors:** Ashish Vaswani, Noam Shazeer, Niki Parmar, Jakob Uszkoreit, Llion Jones, Aidan N. Gomez, Łukasz Kaiser, and Illia Polosukhin\", additional_kwargs={}, response_metadata={'is_blocked': False, 'safety_ratings': [], 'citation_metadata': {'citations': [{'start_index': 73, 'end_index': 215, 'uri': 'https://clarifai.com/clarifai/main/models/moderation-multilingual-text-classification', 'title': '', 'license_': ''}]}, 'usage_metadata': {'prompt_token_count': 3881, 'candidates_token_count': 65, 'total_token_count': 3946, 'cached_content_token_count': 0}, 'finish_reason': 'STOP', 'avg_logprobs': -0.08089208602905273}, id='run-0dfd8a9c-a9d8-4005-a81b-64aacb08204c-0', usage_metadata={'input_tokens': 3881, 'output_tokens': 65, 'total_tokens': 3946})"
      ]
     },
     "execution_count": 11,
     "metadata": {},
     "output_type": "execute_result"
    }
   ],
   "source": [
    "# Langchain model - each message is tuple of role, content\n",
    "\n",
    "lang_llm.invoke([\n",
    "    (\"user\", [{\"type\": \"text\", \"text\": \"What is title and who is author of the paper?\"}, \n",
    "              {\"type\": \"media\", \"mime_type\": \"application/pdf\", \"file_uri\": PDF}])\n",
    "])"
   ]
  },
  {
   "cell_type": "code",
   "execution_count": 12,
   "id": "a618b0a2-d61a-4cca-95f0-827b9aeec257",
   "metadata": {},
   "outputs": [
    {
     "data": {
      "text/plain": [
       "AIMessage(content='The title of the paper is **Attention is All You Need**.\\n\\nThe authors are Ashish Vaswani, Noam Shazeer, Niki Parmar, Jakob Uszkoreit, Llion Jones, Aidan N. Gomez, Łukasz Kaiser, and Illia Polosukhin.', additional_kwargs={}, response_metadata={'is_blocked': False, 'safety_ratings': [], 'citation_metadata': {'citations': [{'start_index': 70, 'end_index': 197, 'uri': 'https://debuggercafe.com/transformer-neural-network/', 'title': '', 'license_': ''}]}, 'usage_metadata': {'prompt_token_count': 3881, 'candidates_token_count': 58, 'total_token_count': 3939, 'cached_content_token_count': 0}, 'finish_reason': 'STOP', 'avg_logprobs': -0.03923832548075709}, id='run-089b9840-975d-4fcc-b24d-a9b06df6252d-0', usage_metadata={'input_tokens': 3881, 'output_tokens': 58, 'total_tokens': 3939})"
      ]
     },
     "execution_count": 12,
     "metadata": {},
     "output_type": "execute_result"
    }
   ],
   "source": [
    "# Langchain model - each message is subclass of BaseMassage (HumanMessage in this case)\n",
    "\n",
    "lang_llm.invoke([\n",
    "    HumanMessage(\n",
    "        content = [\n",
    "            {\"type\": \"text\", \"text\": \"What is title and who is author of the paper?\"}, \n",
    "            {\"type\": \"media\", \"mime_type\": \"application/pdf\", \"file_uri\": PDF}\n",
    "        ]\n",
    "    )\n",
    "])"
   ]
  },
  {
   "cell_type": "code",
   "execution_count": 13,
   "id": "45ada643-9931-41de-9fcc-f0a7cefb0ce3",
   "metadata": {},
   "outputs": [
    {
     "data": {
      "text/plain": [
       "ModelResponse(id='chatcmpl-80efeedd-58b6-4f4e-ada2-259039bd8ff6', created=1735350036, model='gemini-1.5-flash-002', object='chat.completion', system_fingerprint=None, choices=[Choices(finish_reason='stop', index=0, message=Message(content='The title of the paper is **Attention is All You Need**.\\n\\nThe authors are Ashish Vaswani, Noam Shazeer, Niki Parmar, Jakob Uszkoreit, Llion Jones, Aidan N. Gomez, Łukasz Kaiser, and Illia Polosukhin.', role='assistant', tool_calls=None, function_call=None))], usage=Usage(completion_tokens=58, prompt_tokens=3881, total_tokens=3939, completion_tokens_details=None, prompt_tokens_details=None), vertex_ai_grounding_metadata=[], vertex_ai_safety_results=[], vertex_ai_citation_metadata=[{'citations': [{'startIndex': 70, 'endIndex': 197, 'uri': 'https://debuggercafe.com/transformer-neural-network/'}]}])"
      ]
     },
     "execution_count": 13,
     "metadata": {},
     "output_type": "execute_result"
    }
   ],
   "source": [
    "# Litellm - list of dictionaries\n",
    "# Litellm use file extenstion to guess media_type\n",
    "\n",
    "litellm.completion(\n",
    "    model=MODEL,\n",
    "    messages = [\n",
    "        { \"content\": [\n",
    "            {\"type\": \"text\", \"text\": \"What is title and who is author of the paper?\"}, \n",
    "            {\"type\": \"image_url\", \"image_url\":{\"url\": PDF}}\n",
    "        ],\n",
    "         \"role\": \"user\"}\n",
    "    ]\n",
    ")"
   ]
  },
  {
   "cell_type": "markdown",
   "id": "bb0b57a4-8442-4c26-a5b2-a3d438caf026",
   "metadata": {},
   "source": [
    "## HTML from public websites\n",
    "\n",
    "The same applies to HTML (no need for scraping)."
   ]
  },
  {
   "cell_type": "code",
   "execution_count": 14,
   "id": "7f80f219-3bf9-4ca5-95c4-0f57b9052147",
   "metadata": {},
   "outputs": [
    {
     "data": {
      "text/plain": [
       "AIMessage(content='The title of the paper is **Attention Is All You Need**.  The authors are Ashish Vaswani, Noam Shazeer, Niki Parmar, Jakob Uszkoreit, Llion Jones, Aidan N. Gomez, Łukasz Kaiser, and Illia Polosukhin.\\n', additional_kwargs={}, response_metadata={'is_blocked': False, 'safety_ratings': [], 'citation_metadata': {'citations': [{'start_index': 70, 'end_index': 197, 'uri': 'https://debuggercafe.com/transformer-neural-network/', 'title': '', 'license_': ''}]}, 'usage_metadata': {'prompt_token_count': 209639, 'candidates_token_count': 59, 'total_token_count': 209698, 'cached_content_token_count': 0}, 'finish_reason': 'STOP', 'avg_logprobs': -0.023754556300276418}, id='run-692b7f1d-f30f-4fee-af03-fc741ad6f1f0-0', usage_metadata={'input_tokens': 209639, 'output_tokens': 59, 'total_tokens': 209698})"
      ]
     },
     "execution_count": 14,
     "metadata": {},
     "output_type": "execute_result"
    }
   ],
   "source": [
    "# Langchain model - each message is tuple of role, content\n",
    "\n",
    "lang_llm.invoke([\n",
    "    (\"user\", [{\"type\": \"text\", \"text\": \"What is title and who is author of the paper?\"}, \n",
    "              {\"type\": \"media\", \"mime_type\": \"text/html\", \"file_uri\": HTML}])\n",
    "])"
   ]
  },
  {
   "cell_type": "code",
   "execution_count": 15,
   "id": "474c2099-1d09-4256-a8f0-ed38a7c70826",
   "metadata": {},
   "outputs": [
    {
     "data": {
      "text/plain": [
       "AIMessage(content='The title of the paper is \"Attention Is All You Need\".  The authors are Ashish Vaswani, Noam Shazeer, Niki Parmar, Jakob Uszkoreit, Llion Jones, Aidan N. Gomez, Łukasz Kaiser, and Illia Polosukhin.  The footnote indicates that all authors contributed equally, and the order is random.\\n', additional_kwargs={}, response_metadata={'is_blocked': False, 'safety_ratings': [], 'citation_metadata': {'citations': [{'start_index': 72, 'end_index': 201, 'uri': 'https://www.atmosera.com/ai/understanding-chatgpt/', 'title': '', 'license_': ''}]}, 'usage_metadata': {'prompt_token_count': 209639, 'candidates_token_count': 75, 'total_token_count': 209714, 'cached_content_token_count': 0}, 'finish_reason': 'STOP', 'avg_logprobs': -0.0865724245707194}, id='run-ef48c76d-2911-487d-8166-863313e8312b-0', usage_metadata={'input_tokens': 209639, 'output_tokens': 75, 'total_tokens': 209714})"
      ]
     },
     "execution_count": 15,
     "metadata": {},
     "output_type": "execute_result"
    }
   ],
   "source": [
    "# Langchain model - each message is subclass of BaseMassage (HumanMessage in this case)\n",
    "\n",
    "lang_llm.invoke([\n",
    "    HumanMessage(\n",
    "        content = [\n",
    "            {\"type\": \"text\", \"text\": \"What is title and who is author of the paper?\"}, \n",
    "            {\"type\": \"media\", \"mime_type\": \"text/html\", \"file_uri\": HTML}\n",
    "        ]\n",
    "    )\n",
    "])"
   ]
  },
  {
   "cell_type": "code",
   "execution_count": 16,
   "id": "84b5ff4c-42ea-47db-b29e-ad3c12c21f68",
   "metadata": {},
   "outputs": [
    {
     "data": {
      "text/plain": [
       "ModelResponse(id='chatcmpl-dd2e0c87-4d99-445e-8de7-35d0842011bf', created=1735350060, model='gemini-1.5-flash-002', object='chat.completion', system_fingerprint=None, choices=[Choices(finish_reason='stop', index=0, message=Message(content='The title of the paper is \"Attention Is All You Need\".  The authors are Ashish Vaswani, Noam Shazeer, Niki Parmar, Jakob Uszkoreit, Llion Jones, Aidan N. Gomez, Łukasz Kaiser, and Illia Polosukhin.  The footnote indicates equal contribution and that the listing order is random.\\n', role='assistant', tool_calls=None, function_call=None))], usage=Usage(completion_tokens=73, prompt_tokens=11, total_tokens=84, completion_tokens_details=None, prompt_tokens_details=None), vertex_ai_grounding_metadata=[], vertex_ai_safety_results=[], vertex_ai_citation_metadata=[{'citations': [{'startIndex': 72, 'endIndex': 201, 'uri': 'https://www.atmosera.com/ai/understanding-chatgpt/'}]}])"
      ]
     },
     "execution_count": 16,
     "metadata": {},
     "output_type": "execute_result"
    }
   ],
   "source": [
    "# Litellm - list of dictionaries\n",
    "# Litellm use file extenstion to guess media_type\n",
    "\n",
    "litellm.completion(\n",
    "    model=MODEL,\n",
    "    messages = [\n",
    "        { \"content\": [\n",
    "            {\"type\": \"text\", \"text\": \"What is title and who is author of the paper?\"}, \n",
    "            {\"type\": \"image_url\", \"image_url\":{\"url\": HTML}}\n",
    "        ],\n",
    "         \"role\": \"user\"}\n",
    "    ]\n",
    ")"
   ]
  },
  {
   "cell_type": "markdown",
   "id": "d71c9819-e394-432e-8168-2601fe452461",
   "metadata": {},
   "source": [
    "## Video from Youtube"
   ]
  },
  {
   "cell_type": "code",
   "execution_count": 17,
   "id": "ffe59dd0-febb-46ce-a33c-07355061ea43",
   "metadata": {},
   "outputs": [
    {
     "data": {
      "text/plain": [
       "AIMessage(content='The title of the paper shown is “Attention is All You Need.” The authors are Ashish Vaswani, Noam Shazeer, Niki Parmar, Jakob Uszkoreit, Llion Jones, Aidan N. Gomez, Łukasz Kaiser, and Illia Polosukhin.', additional_kwargs={}, response_metadata={'is_blocked': False, 'safety_ratings': [], 'citation_metadata': {'citations': [{'start_index': 73, 'end_index': 200, 'uri': 'https://debuggercafe.com/transformer-neural-network/', 'title': '', 'license_': ''}]}, 'usage_metadata': {'prompt_token_count': 479681, 'candidates_token_count': 58, 'total_token_count': 479739, 'cached_content_token_count': 0}, 'finish_reason': 'STOP', 'avg_logprobs': -0.08717664356889396}, id='run-7ce99689-926f-438f-a404-29a9b2e4d568-0', usage_metadata={'input_tokens': 479681, 'output_tokens': 58, 'total_tokens': 479739})"
      ]
     },
     "execution_count": 17,
     "metadata": {},
     "output_type": "execute_result"
    }
   ],
   "source": [
    "# Langchain model - each message is tuple of role, content\n",
    "\n",
    "lang_llm.invoke([\n",
    "    (\"user\", [{\"type\": \"text\", \"text\": \"What is title and who is author of the paper?\"}, \n",
    "              {\"type\": \"media\", \"mime_type\": \"video/vnd.youtube.yt\", \"file_uri\": YT_VIDEO}])\n",
    "])"
   ]
  },
  {
   "cell_type": "code",
   "execution_count": 18,
   "id": "3fbffb28-2b91-461d-9878-6e6ceed4cc01",
   "metadata": {},
   "outputs": [
    {
     "data": {
      "text/plain": [
       "AIMessage(content='The title of the paper is “Attention is All You Need”.  The authors are Ashish Vaswani, Noam Shazeer, Niki Parmar, Jakob Uszkoreit, Llion Jones, Aidan N. Gomez, Łukasz Kaiser, and Illia Polosukhin.', additional_kwargs={}, response_metadata={'is_blocked': False, 'safety_ratings': [], 'citation_metadata': {'citations': [{'start_index': 68, 'end_index': 195, 'uri': 'https://debuggercafe.com/transformer-neural-network/', 'title': '', 'license_': ''}]}, 'usage_metadata': {'prompt_token_count': 479681, 'candidates_token_count': 58, 'total_token_count': 479739, 'cached_content_token_count': 0}, 'finish_reason': 'STOP', 'avg_logprobs': -0.042078630677584945}, id='run-2e9d7096-fb12-4d6d-b404-319b18034a18-0', usage_metadata={'input_tokens': 479681, 'output_tokens': 58, 'total_tokens': 479739})"
      ]
     },
     "execution_count": 18,
     "metadata": {},
     "output_type": "execute_result"
    }
   ],
   "source": [
    "# Langchain model - each message is subclass of BaseMassage (HumanMessage in this case)\n",
    "\n",
    "lang_llm.invoke([\n",
    "    HumanMessage(\n",
    "        content = [\n",
    "            {\"type\": \"text\", \"text\": \"What is title and who is author of the paper?\"}, \n",
    "            {\"type\": \"media\", \"mime_type\": \"video/vnd.youtube.yt\", \"file_uri\": YT_VIDEO}\n",
    "        ]\n",
    "    )\n",
    "])"
   ]
  },
  {
   "cell_type": "code",
   "execution_count": 19,
   "id": "c76ea73e-8ec2-496b-b4a0-adc642dbb5d3",
   "metadata": {},
   "outputs": [
    {
     "data": {
      "text/plain": [
       "ModelResponse(id='chatcmpl-87f281da-7ef4-44a9-84ed-174d0d0bdaa8', created=1735350153, model='gemini-1.5-flash-002', object='chat.completion', system_fingerprint=None, choices=[Choices(finish_reason='stop', index=0, message=Message(content='The title of the YouTube video embedded in the provided HTML is **Attention Is All You Need**.  The author of the YouTube video is **Yannic Kilcher**.  Note that the video\\'s description mentions the original paper \"Attention is All You Need\" by Ashish Vaswani et al., but Yannic Kilcher is the creator of *this specific YouTube video* explaining the paper.\\n', role='assistant', tool_calls=None, function_call=None))], usage=Usage(completion_tokens=80, prompt_tokens=11, total_tokens=91, completion_tokens_details=None, prompt_tokens_details=None), vertex_ai_grounding_metadata=[], vertex_ai_safety_results=[], vertex_ai_citation_metadata=[])"
      ]
     },
     "execution_count": 19,
     "metadata": {},
     "output_type": "execute_result"
    }
   ],
   "source": [
    "# Litellm - list of dictionaries\n",
    "\n",
    "litellm.completion(\n",
    "    model=MODEL,\n",
    "    messages = [\n",
    "        { \"content\": [\n",
    "            {\"type\": \"text\", \"text\": \"What is title and who is author of the paper?\"}, \n",
    "            {\"type\": \"image_url\", \"image_url\":{\"url\": YT_VIDEO}}\n",
    "        ],\n",
    "         \"role\": \"user\"}\n",
    "    ]\n",
    ")"
   ]
  },
  {
   "cell_type": "code",
   "execution_count": null,
   "id": "6429b2b8-2a6e-49ca-88ad-f73c1a66ac61",
   "metadata": {},
   "outputs": [],
   "source": []
  }
 ],
 "metadata": {
  "kernelspec": {
   "display_name": "Python 3 (ipykernel)",
   "language": "python",
   "name": "python3"
  },
  "language_info": {
   "codemirror_mode": {
    "name": "ipython",
    "version": 3
   },
   "file_extension": ".py",
   "mimetype": "text/x-python",
   "name": "python",
   "nbconvert_exporter": "python",
   "pygments_lexer": "ipython3",
   "version": "3.10.12"
  }
 },
 "nbformat": 4,
 "nbformat_minor": 5
}
